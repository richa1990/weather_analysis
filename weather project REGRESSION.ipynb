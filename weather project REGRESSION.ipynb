{
 "cells": [
  {
   "cell_type": "code",
   "execution_count": 1,
   "id": "f6495405",
   "metadata": {},
   "outputs": [],
   "source": [
    "import pandas as pd\n",
    "import numpy as np"
   ]
  },
  {
   "cell_type": "code",
   "execution_count": 2,
   "id": "d10f7526",
   "metadata": {},
   "outputs": [],
   "source": [
    "import warnings"
   ]
  },
  {
   "cell_type": "code",
   "execution_count": 3,
   "id": "1f30c6e4",
   "metadata": {},
   "outputs": [],
   "source": [
    "warnings.filterwarnings(\"ignore\")"
   ]
  },
  {
   "cell_type": "code",
   "execution_count": 4,
   "id": "8f4cbc9b",
   "metadata": {},
   "outputs": [],
   "source": [
    "df=pd.read_csv(\"C:\\\\Users\\\\owner\\\\Desktop\\\\Machine Learning project\\\\Weather.csv\")"
   ]
  },
  {
   "cell_type": "code",
   "execution_count": 5,
   "id": "1c25123c",
   "metadata": {},
   "outputs": [],
   "source": [
    "df1=df.copy()"
   ]
  },
  {
   "cell_type": "code",
   "execution_count": 6,
   "id": "1362be1d",
   "metadata": {},
   "outputs": [
    {
     "data": {
      "text/html": [
       "<div>\n",
       "<style scoped>\n",
       "    .dataframe tbody tr th:only-of-type {\n",
       "        vertical-align: middle;\n",
       "    }\n",
       "\n",
       "    .dataframe tbody tr th {\n",
       "        vertical-align: top;\n",
       "    }\n",
       "\n",
       "    .dataframe thead th {\n",
       "        text-align: right;\n",
       "    }\n",
       "</style>\n",
       "<table border=\"1\" class=\"dataframe\">\n",
       "  <thead>\n",
       "    <tr style=\"text-align: right;\">\n",
       "      <th></th>\n",
       "      <th>STA</th>\n",
       "      <th>Date</th>\n",
       "      <th>Precip</th>\n",
       "      <th>WindGustSpd</th>\n",
       "      <th>MaxTemp</th>\n",
       "      <th>MinTemp</th>\n",
       "      <th>MeanTemp</th>\n",
       "      <th>Snowfall</th>\n",
       "      <th>PoorWeather</th>\n",
       "      <th>YR</th>\n",
       "      <th>...</th>\n",
       "      <th>FT</th>\n",
       "      <th>FB</th>\n",
       "      <th>FTI</th>\n",
       "      <th>PGT</th>\n",
       "      <th>TSHDSBRSGF</th>\n",
       "      <th>SD3</th>\n",
       "      <th>RHX</th>\n",
       "      <th>RHN</th>\n",
       "      <th>RVG</th>\n",
       "      <th>WTE</th>\n",
       "    </tr>\n",
       "  </thead>\n",
       "  <tbody>\n",
       "    <tr>\n",
       "      <th>0</th>\n",
       "      <td>10001</td>\n",
       "      <td>7/1/1942</td>\n",
       "      <td>1.016</td>\n",
       "      <td>NaN</td>\n",
       "      <td>25.555556</td>\n",
       "      <td>22.222222</td>\n",
       "      <td>23.888889</td>\n",
       "      <td>0.0</td>\n",
       "      <td>NaN</td>\n",
       "      <td>42</td>\n",
       "      <td>...</td>\n",
       "      <td>NaN</td>\n",
       "      <td>NaN</td>\n",
       "      <td>NaN</td>\n",
       "      <td>NaN</td>\n",
       "      <td>NaN</td>\n",
       "      <td>NaN</td>\n",
       "      <td>NaN</td>\n",
       "      <td>NaN</td>\n",
       "      <td>NaN</td>\n",
       "      <td>NaN</td>\n",
       "    </tr>\n",
       "    <tr>\n",
       "      <th>1</th>\n",
       "      <td>10001</td>\n",
       "      <td>7/2/1942</td>\n",
       "      <td>0</td>\n",
       "      <td>NaN</td>\n",
       "      <td>28.888889</td>\n",
       "      <td>21.666667</td>\n",
       "      <td>25.555556</td>\n",
       "      <td>0.0</td>\n",
       "      <td>NaN</td>\n",
       "      <td>42</td>\n",
       "      <td>...</td>\n",
       "      <td>NaN</td>\n",
       "      <td>NaN</td>\n",
       "      <td>NaN</td>\n",
       "      <td>NaN</td>\n",
       "      <td>NaN</td>\n",
       "      <td>NaN</td>\n",
       "      <td>NaN</td>\n",
       "      <td>NaN</td>\n",
       "      <td>NaN</td>\n",
       "      <td>NaN</td>\n",
       "    </tr>\n",
       "    <tr>\n",
       "      <th>2</th>\n",
       "      <td>10001</td>\n",
       "      <td>7/3/1942</td>\n",
       "      <td>2.54</td>\n",
       "      <td>NaN</td>\n",
       "      <td>26.111111</td>\n",
       "      <td>22.222222</td>\n",
       "      <td>24.444444</td>\n",
       "      <td>0.0</td>\n",
       "      <td>NaN</td>\n",
       "      <td>42</td>\n",
       "      <td>...</td>\n",
       "      <td>NaN</td>\n",
       "      <td>NaN</td>\n",
       "      <td>NaN</td>\n",
       "      <td>NaN</td>\n",
       "      <td>NaN</td>\n",
       "      <td>NaN</td>\n",
       "      <td>NaN</td>\n",
       "      <td>NaN</td>\n",
       "      <td>NaN</td>\n",
       "      <td>NaN</td>\n",
       "    </tr>\n",
       "    <tr>\n",
       "      <th>3</th>\n",
       "      <td>10001</td>\n",
       "      <td>7/4/1942</td>\n",
       "      <td>2.54</td>\n",
       "      <td>NaN</td>\n",
       "      <td>26.666667</td>\n",
       "      <td>22.222222</td>\n",
       "      <td>24.444444</td>\n",
       "      <td>0.0</td>\n",
       "      <td>NaN</td>\n",
       "      <td>42</td>\n",
       "      <td>...</td>\n",
       "      <td>NaN</td>\n",
       "      <td>NaN</td>\n",
       "      <td>NaN</td>\n",
       "      <td>NaN</td>\n",
       "      <td>NaN</td>\n",
       "      <td>NaN</td>\n",
       "      <td>NaN</td>\n",
       "      <td>NaN</td>\n",
       "      <td>NaN</td>\n",
       "      <td>NaN</td>\n",
       "    </tr>\n",
       "    <tr>\n",
       "      <th>4</th>\n",
       "      <td>10001</td>\n",
       "      <td>7/5/1942</td>\n",
       "      <td>0</td>\n",
       "      <td>NaN</td>\n",
       "      <td>26.666667</td>\n",
       "      <td>21.666667</td>\n",
       "      <td>24.444444</td>\n",
       "      <td>0.0</td>\n",
       "      <td>NaN</td>\n",
       "      <td>42</td>\n",
       "      <td>...</td>\n",
       "      <td>NaN</td>\n",
       "      <td>NaN</td>\n",
       "      <td>NaN</td>\n",
       "      <td>NaN</td>\n",
       "      <td>NaN</td>\n",
       "      <td>NaN</td>\n",
       "      <td>NaN</td>\n",
       "      <td>NaN</td>\n",
       "      <td>NaN</td>\n",
       "      <td>NaN</td>\n",
       "    </tr>\n",
       "  </tbody>\n",
       "</table>\n",
       "<p>5 rows × 30 columns</p>\n",
       "</div>"
      ],
      "text/plain": [
       "     STA      Date Precip  WindGustSpd    MaxTemp    MinTemp   MeanTemp  \\\n",
       "0  10001  7/1/1942  1.016          NaN  25.555556  22.222222  23.888889   \n",
       "1  10001  7/2/1942      0          NaN  28.888889  21.666667  25.555556   \n",
       "2  10001  7/3/1942   2.54          NaN  26.111111  22.222222  24.444444   \n",
       "3  10001  7/4/1942   2.54          NaN  26.666667  22.222222  24.444444   \n",
       "4  10001  7/5/1942      0          NaN  26.666667  21.666667  24.444444   \n",
       "\n",
       "  Snowfall PoorWeather  YR  ...  FT  FB FTI  PGT  TSHDSBRSGF  SD3  RHX  RHN  \\\n",
       "0      0.0         NaN  42  ... NaN NaN NaN  NaN         NaN  NaN  NaN  NaN   \n",
       "1      0.0         NaN  42  ... NaN NaN NaN  NaN         NaN  NaN  NaN  NaN   \n",
       "2      0.0         NaN  42  ... NaN NaN NaN  NaN         NaN  NaN  NaN  NaN   \n",
       "3      0.0         NaN  42  ... NaN NaN NaN  NaN         NaN  NaN  NaN  NaN   \n",
       "4      0.0         NaN  42  ... NaN NaN NaN  NaN         NaN  NaN  NaN  NaN   \n",
       "\n",
       "  RVG  WTE  \n",
       "0 NaN  NaN  \n",
       "1 NaN  NaN  \n",
       "2 NaN  NaN  \n",
       "3 NaN  NaN  \n",
       "4 NaN  NaN  \n",
       "\n",
       "[5 rows x 30 columns]"
      ]
     },
     "execution_count": 6,
     "metadata": {},
     "output_type": "execute_result"
    }
   ],
   "source": [
    "df1.head()"
   ]
  },
  {
   "cell_type": "code",
   "execution_count": 7,
   "id": "473ebe3d",
   "metadata": {},
   "outputs": [],
   "source": [
    "#DATA PREPROCESSING\n",
    "#1-for getting all columns name \n",
    "pd.set_option(\"display.max_columns\",None)"
   ]
  },
  {
   "cell_type": "code",
   "execution_count": 8,
   "id": "8e5a4593",
   "metadata": {},
   "outputs": [
    {
     "data": {
      "text/html": [
       "<div>\n",
       "<style scoped>\n",
       "    .dataframe tbody tr th:only-of-type {\n",
       "        vertical-align: middle;\n",
       "    }\n",
       "\n",
       "    .dataframe tbody tr th {\n",
       "        vertical-align: top;\n",
       "    }\n",
       "\n",
       "    .dataframe thead th {\n",
       "        text-align: right;\n",
       "    }\n",
       "</style>\n",
       "<table border=\"1\" class=\"dataframe\">\n",
       "  <thead>\n",
       "    <tr style=\"text-align: right;\">\n",
       "      <th></th>\n",
       "      <th>STA</th>\n",
       "      <th>Date</th>\n",
       "      <th>Precip</th>\n",
       "      <th>WindGustSpd</th>\n",
       "      <th>MaxTemp</th>\n",
       "      <th>MinTemp</th>\n",
       "      <th>MeanTemp</th>\n",
       "      <th>Snowfall</th>\n",
       "      <th>PoorWeather</th>\n",
       "      <th>YR</th>\n",
       "      <th>MO</th>\n",
       "      <th>DA</th>\n",
       "      <th>PRCP</th>\n",
       "      <th>DR</th>\n",
       "      <th>SPD</th>\n",
       "      <th>MAX</th>\n",
       "      <th>MIN</th>\n",
       "      <th>MEA</th>\n",
       "      <th>SNF</th>\n",
       "      <th>SND</th>\n",
       "      <th>FT</th>\n",
       "      <th>FB</th>\n",
       "      <th>FTI</th>\n",
       "      <th>PGT</th>\n",
       "      <th>TSHDSBRSGF</th>\n",
       "      <th>SD3</th>\n",
       "      <th>RHX</th>\n",
       "      <th>RHN</th>\n",
       "      <th>RVG</th>\n",
       "      <th>WTE</th>\n",
       "    </tr>\n",
       "  </thead>\n",
       "  <tbody>\n",
       "    <tr>\n",
       "      <th>0</th>\n",
       "      <td>10001</td>\n",
       "      <td>7/1/1942</td>\n",
       "      <td>1.016</td>\n",
       "      <td>NaN</td>\n",
       "      <td>25.555556</td>\n",
       "      <td>22.222222</td>\n",
       "      <td>23.888889</td>\n",
       "      <td>0.0</td>\n",
       "      <td>NaN</td>\n",
       "      <td>42</td>\n",
       "      <td>7</td>\n",
       "      <td>1</td>\n",
       "      <td>0.04</td>\n",
       "      <td>NaN</td>\n",
       "      <td>NaN</td>\n",
       "      <td>78.0</td>\n",
       "      <td>72.0</td>\n",
       "      <td>75.0</td>\n",
       "      <td>0.0</td>\n",
       "      <td>NaN</td>\n",
       "      <td>NaN</td>\n",
       "      <td>NaN</td>\n",
       "      <td>NaN</td>\n",
       "      <td>NaN</td>\n",
       "      <td>NaN</td>\n",
       "      <td>NaN</td>\n",
       "      <td>NaN</td>\n",
       "      <td>NaN</td>\n",
       "      <td>NaN</td>\n",
       "      <td>NaN</td>\n",
       "    </tr>\n",
       "    <tr>\n",
       "      <th>1</th>\n",
       "      <td>10001</td>\n",
       "      <td>7/2/1942</td>\n",
       "      <td>0</td>\n",
       "      <td>NaN</td>\n",
       "      <td>28.888889</td>\n",
       "      <td>21.666667</td>\n",
       "      <td>25.555556</td>\n",
       "      <td>0.0</td>\n",
       "      <td>NaN</td>\n",
       "      <td>42</td>\n",
       "      <td>7</td>\n",
       "      <td>2</td>\n",
       "      <td>0</td>\n",
       "      <td>NaN</td>\n",
       "      <td>NaN</td>\n",
       "      <td>84.0</td>\n",
       "      <td>71.0</td>\n",
       "      <td>78.0</td>\n",
       "      <td>0.0</td>\n",
       "      <td>NaN</td>\n",
       "      <td>NaN</td>\n",
       "      <td>NaN</td>\n",
       "      <td>NaN</td>\n",
       "      <td>NaN</td>\n",
       "      <td>NaN</td>\n",
       "      <td>NaN</td>\n",
       "      <td>NaN</td>\n",
       "      <td>NaN</td>\n",
       "      <td>NaN</td>\n",
       "      <td>NaN</td>\n",
       "    </tr>\n",
       "    <tr>\n",
       "      <th>2</th>\n",
       "      <td>10001</td>\n",
       "      <td>7/3/1942</td>\n",
       "      <td>2.54</td>\n",
       "      <td>NaN</td>\n",
       "      <td>26.111111</td>\n",
       "      <td>22.222222</td>\n",
       "      <td>24.444444</td>\n",
       "      <td>0.0</td>\n",
       "      <td>NaN</td>\n",
       "      <td>42</td>\n",
       "      <td>7</td>\n",
       "      <td>3</td>\n",
       "      <td>0.1</td>\n",
       "      <td>NaN</td>\n",
       "      <td>NaN</td>\n",
       "      <td>79.0</td>\n",
       "      <td>72.0</td>\n",
       "      <td>76.0</td>\n",
       "      <td>0.0</td>\n",
       "      <td>NaN</td>\n",
       "      <td>NaN</td>\n",
       "      <td>NaN</td>\n",
       "      <td>NaN</td>\n",
       "      <td>NaN</td>\n",
       "      <td>NaN</td>\n",
       "      <td>NaN</td>\n",
       "      <td>NaN</td>\n",
       "      <td>NaN</td>\n",
       "      <td>NaN</td>\n",
       "      <td>NaN</td>\n",
       "    </tr>\n",
       "    <tr>\n",
       "      <th>3</th>\n",
       "      <td>10001</td>\n",
       "      <td>7/4/1942</td>\n",
       "      <td>2.54</td>\n",
       "      <td>NaN</td>\n",
       "      <td>26.666667</td>\n",
       "      <td>22.222222</td>\n",
       "      <td>24.444444</td>\n",
       "      <td>0.0</td>\n",
       "      <td>NaN</td>\n",
       "      <td>42</td>\n",
       "      <td>7</td>\n",
       "      <td>4</td>\n",
       "      <td>0.1</td>\n",
       "      <td>NaN</td>\n",
       "      <td>NaN</td>\n",
       "      <td>80.0</td>\n",
       "      <td>72.0</td>\n",
       "      <td>76.0</td>\n",
       "      <td>0.0</td>\n",
       "      <td>NaN</td>\n",
       "      <td>NaN</td>\n",
       "      <td>NaN</td>\n",
       "      <td>NaN</td>\n",
       "      <td>NaN</td>\n",
       "      <td>NaN</td>\n",
       "      <td>NaN</td>\n",
       "      <td>NaN</td>\n",
       "      <td>NaN</td>\n",
       "      <td>NaN</td>\n",
       "      <td>NaN</td>\n",
       "    </tr>\n",
       "    <tr>\n",
       "      <th>4</th>\n",
       "      <td>10001</td>\n",
       "      <td>7/5/1942</td>\n",
       "      <td>0</td>\n",
       "      <td>NaN</td>\n",
       "      <td>26.666667</td>\n",
       "      <td>21.666667</td>\n",
       "      <td>24.444444</td>\n",
       "      <td>0.0</td>\n",
       "      <td>NaN</td>\n",
       "      <td>42</td>\n",
       "      <td>7</td>\n",
       "      <td>5</td>\n",
       "      <td>0</td>\n",
       "      <td>NaN</td>\n",
       "      <td>NaN</td>\n",
       "      <td>80.0</td>\n",
       "      <td>71.0</td>\n",
       "      <td>76.0</td>\n",
       "      <td>0.0</td>\n",
       "      <td>NaN</td>\n",
       "      <td>NaN</td>\n",
       "      <td>NaN</td>\n",
       "      <td>NaN</td>\n",
       "      <td>NaN</td>\n",
       "      <td>NaN</td>\n",
       "      <td>NaN</td>\n",
       "      <td>NaN</td>\n",
       "      <td>NaN</td>\n",
       "      <td>NaN</td>\n",
       "      <td>NaN</td>\n",
       "    </tr>\n",
       "  </tbody>\n",
       "</table>\n",
       "</div>"
      ],
      "text/plain": [
       "     STA      Date Precip  WindGustSpd    MaxTemp    MinTemp   MeanTemp  \\\n",
       "0  10001  7/1/1942  1.016          NaN  25.555556  22.222222  23.888889   \n",
       "1  10001  7/2/1942      0          NaN  28.888889  21.666667  25.555556   \n",
       "2  10001  7/3/1942   2.54          NaN  26.111111  22.222222  24.444444   \n",
       "3  10001  7/4/1942   2.54          NaN  26.666667  22.222222  24.444444   \n",
       "4  10001  7/5/1942      0          NaN  26.666667  21.666667  24.444444   \n",
       "\n",
       "  Snowfall PoorWeather  YR  MO  DA  PRCP  DR  SPD   MAX   MIN   MEA  SNF  SND  \\\n",
       "0      0.0         NaN  42   7   1  0.04 NaN  NaN  78.0  72.0  75.0  0.0  NaN   \n",
       "1      0.0         NaN  42   7   2     0 NaN  NaN  84.0  71.0  78.0  0.0  NaN   \n",
       "2      0.0         NaN  42   7   3   0.1 NaN  NaN  79.0  72.0  76.0  0.0  NaN   \n",
       "3      0.0         NaN  42   7   4   0.1 NaN  NaN  80.0  72.0  76.0  0.0  NaN   \n",
       "4      0.0         NaN  42   7   5     0 NaN  NaN  80.0  71.0  76.0  0.0  NaN   \n",
       "\n",
       "   FT  FB  FTI  PGT TSHDSBRSGF  SD3  RHX  RHN  RVG  WTE  \n",
       "0 NaN NaN  NaN  NaN        NaN  NaN  NaN  NaN  NaN  NaN  \n",
       "1 NaN NaN  NaN  NaN        NaN  NaN  NaN  NaN  NaN  NaN  \n",
       "2 NaN NaN  NaN  NaN        NaN  NaN  NaN  NaN  NaN  NaN  \n",
       "3 NaN NaN  NaN  NaN        NaN  NaN  NaN  NaN  NaN  NaN  \n",
       "4 NaN NaN  NaN  NaN        NaN  NaN  NaN  NaN  NaN  NaN  "
      ]
     },
     "execution_count": 8,
     "metadata": {},
     "output_type": "execute_result"
    }
   ],
   "source": [
    "df1.head()"
   ]
  },
  {
   "cell_type": "code",
   "execution_count": 9,
   "id": "b69e7607",
   "metadata": {},
   "outputs": [
    {
     "data": {
      "text/plain": [
       "(119040, 30)"
      ]
     },
     "execution_count": 9,
     "metadata": {},
     "output_type": "execute_result"
    }
   ],
   "source": [
    "df1.shape"
   ]
  },
  {
   "cell_type": "code",
   "execution_count": 10,
   "id": "73263b9f",
   "metadata": {},
   "outputs": [
    {
     "data": {
      "text/plain": [
       "STA            False\n",
       "Date           False\n",
       "Precip         False\n",
       "WindGustSpd     True\n",
       "MaxTemp        False\n",
       "MinTemp        False\n",
       "MeanTemp       False\n",
       "Snowfall        True\n",
       "PoorWeather     True\n",
       "YR             False\n",
       "MO             False\n",
       "DA             False\n",
       "PRCP            True\n",
       "DR              True\n",
       "SPD             True\n",
       "MAX             True\n",
       "MIN             True\n",
       "MEA             True\n",
       "SNF             True\n",
       "SND             True\n",
       "FT              True\n",
       "FB              True\n",
       "FTI             True\n",
       "PGT             True\n",
       "TSHDSBRSGF      True\n",
       "SD3             True\n",
       "RHX             True\n",
       "RHN             True\n",
       "RVG             True\n",
       "WTE             True\n",
       "dtype: bool"
      ]
     },
     "execution_count": 10,
     "metadata": {},
     "output_type": "execute_result"
    }
   ],
   "source": [
    "df1.isnull().any()"
   ]
  },
  {
   "cell_type": "code",
   "execution_count": 11,
   "id": "e1a4cc34",
   "metadata": {},
   "outputs": [
    {
     "name": "stdout",
     "output_type": "stream",
     "text": [
      "<class 'pandas.core.frame.DataFrame'>\n",
      "RangeIndex: 119040 entries, 0 to 119039\n",
      "Data columns (total 30 columns):\n",
      " #   Column       Non-Null Count   Dtype  \n",
      "---  ------       --------------   -----  \n",
      " 0   STA          119040 non-null  int64  \n",
      " 1   Date         119040 non-null  object \n",
      " 2   Precip       119040 non-null  object \n",
      " 3   WindGustSpd  532 non-null     float64\n",
      " 4   MaxTemp      119040 non-null  float64\n",
      " 5   MinTemp      119040 non-null  float64\n",
      " 6   MeanTemp     119040 non-null  float64\n",
      " 7   Snowfall     117877 non-null  object \n",
      " 8   PoorWeather  34237 non-null   object \n",
      " 9   YR           119040 non-null  int64  \n",
      " 10  MO           119040 non-null  int64  \n",
      " 11  DA           119040 non-null  int64  \n",
      " 12  PRCP         117108 non-null  object \n",
      " 13  DR           533 non-null     float64\n",
      " 14  SPD          532 non-null     float64\n",
      " 15  MAX          118566 non-null  float64\n",
      " 16  MIN          118572 non-null  float64\n",
      " 17  MEA          118542 non-null  float64\n",
      " 18  SNF          117877 non-null  object \n",
      " 19  SND          5563 non-null    float64\n",
      " 20  FT           0 non-null       float64\n",
      " 21  FB           0 non-null       float64\n",
      " 22  FTI          0 non-null       float64\n",
      " 23  PGT          525 non-null     float64\n",
      " 24  TSHDSBRSGF   34237 non-null   object \n",
      " 25  SD3          0 non-null       float64\n",
      " 26  RHX          0 non-null       float64\n",
      " 27  RHN          0 non-null       float64\n",
      " 28  RVG          0 non-null       float64\n",
      " 29  WTE          0 non-null       float64\n",
      "dtypes: float64(19), int64(4), object(7)\n",
      "memory usage: 27.2+ MB\n"
     ]
    }
   ],
   "source": [
    "df1.info()"
   ]
  },
  {
   "cell_type": "code",
   "execution_count": 12,
   "id": "4e08ae36",
   "metadata": {},
   "outputs": [],
   "source": [
    "#drop features which have more than 90% null nalue\n",
    "df1.drop([\"SD3\",\"RHX\",\"RHN\",\"RVG\",\"WTE\",\"FB\",\"FT\",\"FTI\",\"PGT\",\"SND\",\"DR\",\"SPD\",\"WindGustSpd\"],axis=1,inplace=True)"
   ]
  },
  {
   "cell_type": "code",
   "execution_count": 13,
   "id": "7b1c4786",
   "metadata": {},
   "outputs": [
    {
     "name": "stdout",
     "output_type": "stream",
     "text": [
      "<class 'pandas.core.frame.DataFrame'>\n",
      "RangeIndex: 119040 entries, 0 to 119039\n",
      "Data columns (total 17 columns):\n",
      " #   Column       Non-Null Count   Dtype  \n",
      "---  ------       --------------   -----  \n",
      " 0   STA          119040 non-null  int64  \n",
      " 1   Date         119040 non-null  object \n",
      " 2   Precip       119040 non-null  object \n",
      " 3   MaxTemp      119040 non-null  float64\n",
      " 4   MinTemp      119040 non-null  float64\n",
      " 5   MeanTemp     119040 non-null  float64\n",
      " 6   Snowfall     117877 non-null  object \n",
      " 7   PoorWeather  34237 non-null   object \n",
      " 8   YR           119040 non-null  int64  \n",
      " 9   MO           119040 non-null  int64  \n",
      " 10  DA           119040 non-null  int64  \n",
      " 11  PRCP         117108 non-null  object \n",
      " 12  MAX          118566 non-null  float64\n",
      " 13  MIN          118572 non-null  float64\n",
      " 14  MEA          118542 non-null  float64\n",
      " 15  SNF          117877 non-null  object \n",
      " 16  TSHDSBRSGF   34237 non-null   object \n",
      "dtypes: float64(6), int64(4), object(7)\n",
      "memory usage: 15.4+ MB\n"
     ]
    }
   ],
   "source": [
    "df1.info()"
   ]
  },
  {
   "cell_type": "code",
   "execution_count": 14,
   "id": "edd7baad",
   "metadata": {},
   "outputs": [],
   "source": [
    "df1.drop([\"PoorWeather\",\"TSHDSBRSGF\"],axis=1,inplace=True)"
   ]
  },
  {
   "cell_type": "code",
   "execution_count": 15,
   "id": "2fc4a4e5",
   "metadata": {},
   "outputs": [
    {
     "data": {
      "text/plain": [
       "(119040, 15)"
      ]
     },
     "execution_count": 15,
     "metadata": {},
     "output_type": "execute_result"
    }
   ],
   "source": [
    "df1.shape"
   ]
  },
  {
   "cell_type": "code",
   "execution_count": 16,
   "id": "fa39ca75",
   "metadata": {},
   "outputs": [],
   "source": [
    "#missing value treatment\n",
    "df1[\"YR\"].fillna(df1['YR'].median(),inplace=True)"
   ]
  },
  {
   "cell_type": "code",
   "execution_count": 17,
   "id": "2d7f27c8",
   "metadata": {},
   "outputs": [],
   "source": [
    "df1[\"MO\"].fillna(df1[\"MO\"].median(),inplace=True)\n",
    "df1[\"DA\"].fillna(df1[\"DA\"].median(),inplace=True)\n",
    "df1[\"MAX\"].fillna(df1[\"MAX\"].median(),inplace=True)\n",
    "df1[\"MIN\"].fillna(df1[\"MIN\"].median(),inplace=True)\n",
    "df1[\"MEA\"].fillna(df1[\"MEA\"].median(),inplace=True)"
   ]
  },
  {
   "cell_type": "code",
   "execution_count": 18,
   "id": "0415d1f3",
   "metadata": {},
   "outputs": [
    {
     "data": {
      "text/plain": [
       "0.0        86090\n",
       "0          29600\n",
       "5.08         527\n",
       "7.62         319\n",
       "2.54         317\n",
       "10.16        195\n",
       "12.7          90\n",
       "20.32         83\n",
       "17.78         78\n",
       "15.24         70\n",
       "22.86         69\n",
       "25.4          68\n",
       "#VALUE!       44\n",
       "27.94         40\n",
       "30.48         31\n",
       "45.72         25\n",
       "50.8          24\n",
       "48.26         22\n",
       "2.54          22\n",
       "35.56         20\n",
       "33.02         15\n",
       "60.96         13\n",
       "7.62          11\n",
       "38.1          11\n",
       "66.04         11\n",
       "53.34         10\n",
       "43.18         10\n",
       "10.16         10\n",
       "63.5           7\n",
       "5.08           7\n",
       "55.88          6\n",
       "40.64          6\n",
       "76.2           5\n",
       "58.42          5\n",
       "15.24          4\n",
       "81.28          4\n",
       "78.74          2\n",
       "12.7           2\n",
       "83.82          1\n",
       "68.58          1\n",
       "86.36          1\n",
       "73.66          1\n",
       "Name: Snowfall, dtype: int64"
      ]
     },
     "execution_count": 18,
     "metadata": {},
     "output_type": "execute_result"
    }
   ],
   "source": [
    "df1[\"Snowfall\"].value_counts()"
   ]
  },
  {
   "cell_type": "code",
   "execution_count": 19,
   "id": "198861bd",
   "metadata": {},
   "outputs": [],
   "source": [
    "#replace treatment\n",
    "df1[\"Snowfall\"]=df1[\"Snowfall\"].replace(\"#VALUE!\",np.nan)"
   ]
  },
  {
   "cell_type": "code",
   "execution_count": 20,
   "id": "d6c32e1d",
   "metadata": {},
   "outputs": [],
   "source": [
    "#astype('datatype') - To convert the datatype of a feature/column/parameter\n",
    "df1[\"Snowfall\"]=df1[\"Snowfall\"].astype(\"float\")"
   ]
  },
  {
   "cell_type": "code",
   "execution_count": 21,
   "id": "a67bea07",
   "metadata": {},
   "outputs": [],
   "source": [
    "df1[\"Snowfall\"].fillna(df1[\"Snowfall\"].median(),inplace=True)"
   ]
  },
  {
   "cell_type": "code",
   "execution_count": 22,
   "id": "1630ca9a",
   "metadata": {},
   "outputs": [
    {
     "data": {
      "text/plain": [
       "0       62335\n",
       "T       16753\n",
       "0.01     3389\n",
       "0.02     2909\n",
       "0.03     2015\n",
       "        ...  \n",
       "4.87        1\n",
       "4.2         1\n",
       "4.98        1\n",
       "4.88        1\n",
       "6.34        1\n",
       "Name: PRCP, Length: 540, dtype: int64"
      ]
     },
     "execution_count": 22,
     "metadata": {},
     "output_type": "execute_result"
    }
   ],
   "source": [
    "df1[\"PRCP\"].value_counts()"
   ]
  },
  {
   "cell_type": "code",
   "execution_count": 23,
   "id": "c8374922",
   "metadata": {},
   "outputs": [],
   "source": [
    "df1[\"PRCP\"]=df1[\"PRCP\"].replace(\"T\",np.nan).astype(\"float\")"
   ]
  },
  {
   "cell_type": "code",
   "execution_count": 24,
   "id": "9971ad00",
   "metadata": {},
   "outputs": [],
   "source": [
    "df1[\"PRCP\"].fillna(df1[\"PRCP\"].median(),inplace=True)"
   ]
  },
  {
   "cell_type": "code",
   "execution_count": 25,
   "id": "b4221a84",
   "metadata": {},
   "outputs": [
    {
     "data": {
      "text/plain": [
       "0.0    86090\n",
       "0      29600\n",
       "0.2      527\n",
       "0.3      319\n",
       "0.1      317\n",
       "0.4      195\n",
       "0.5       90\n",
       "0.8       83\n",
       "0.7       78\n",
       "0.6       70\n",
       "0.9       69\n",
       "1         68\n",
       "T         44\n",
       "1.1       40\n",
       "1.2       31\n",
       "1.8       25\n",
       "2         24\n",
       "1.9       22\n",
       "0.1       22\n",
       "1.4       20\n",
       "1.3       15\n",
       "2.4       13\n",
       "0.3       11\n",
       "1.5       11\n",
       "2.6       11\n",
       "2.1       10\n",
       "1.7       10\n",
       "0.4       10\n",
       "2.5        7\n",
       "0.2        7\n",
       "2.2        6\n",
       "1.6        6\n",
       "3          5\n",
       "2.3        5\n",
       "0.6        4\n",
       "3.2        4\n",
       "3.1        2\n",
       "0.5        2\n",
       "3.3        1\n",
       "2.7        1\n",
       "3.4        1\n",
       "2.9        1\n",
       "Name: SNF, dtype: int64"
      ]
     },
     "execution_count": 25,
     "metadata": {},
     "output_type": "execute_result"
    }
   ],
   "source": [
    "df[\"SNF\"].value_counts()"
   ]
  },
  {
   "cell_type": "code",
   "execution_count": 26,
   "id": "65ed05ec",
   "metadata": {},
   "outputs": [],
   "source": [
    "df1[\"SNF\"]=df1[\"SNF\"].replace(\"T\",np.nan).astype(\"float\")"
   ]
  },
  {
   "cell_type": "code",
   "execution_count": 27,
   "id": "20615852",
   "metadata": {},
   "outputs": [],
   "source": [
    "df1[\"SNF\"].fillna(df1[\"SNF\"].median(),inplace=True)"
   ]
  },
  {
   "cell_type": "code",
   "execution_count": 28,
   "id": "b6c94ae0",
   "metadata": {},
   "outputs": [
    {
     "data": {
      "text/plain": [
       "STA          1.288166\n",
       "MaxTemp     -2.080644\n",
       "MinTemp     -1.889984\n",
       "MeanTemp    -2.158658\n",
       "Snowfall    16.538740\n",
       "YR          -0.965982\n",
       "MO          -0.074214\n",
       "DA          -0.002949\n",
       "PRCP         7.206004\n",
       "MAX         -1.887753\n",
       "MIN         -1.827230\n",
       "MEA         -2.033814\n",
       "SNF         16.538740\n",
       "dtype: float64"
      ]
     },
     "execution_count": 28,
     "metadata": {},
     "output_type": "execute_result"
    }
   ],
   "source": [
    "#visalulisation\n",
    "df1.skew()"
   ]
  },
  {
   "cell_type": "code",
   "execution_count": 29,
   "id": "01fdc599",
   "metadata": {},
   "outputs": [],
   "source": [
    "import matplotlib.pyplot as plt\n",
    "import seaborn as sns"
   ]
  },
  {
   "cell_type": "code",
   "execution_count": 30,
   "id": "e50bce40",
   "metadata": {},
   "outputs": [
    {
     "data": {
      "image/png": "[encoded data removed]",
      "text/plain": [
       "<Figure size 1080x504 with 1 Axes>"
      ]
     },
     "metadata": {
      "needs_background": "light"
     },
     "output_type": "display_data"
    }
   ],
   "source": [
    "plt.figure(figsize=(15,7))\n",
    "plt.title(\"Distplot for STA\",fontsize=20)\n",
    "sns.distplot(df1[\"STA\"])\n",
    "plt.show()\n",
    "#consider highest peak and this is right skewed dis tribution"
   ]
  },
  {
   "cell_type": "code",
   "execution_count": 31,
   "id": "68220255",
   "metadata": {},
   "outputs": [
    {
     "data": {
      "image/png": "[encoded data removed]",
      "text/plain": [
       "<Figure size 1080x504 with 1 Axes>"
      ]
     },
     "metadata": {
      "needs_background": "light"
     },
     "output_type": "display_data"
    }
   ],
   "source": [
    "plt.figure(figsize=(15,7))\n",
    "plt.title(\"Distplot for MaxTemp\",fontsize=20)\n",
    "sns.distplot(df1[\"MaxTemp\"])\n",
    "plt.show()"
   ]
  },
  {
   "cell_type": "code",
   "execution_count": 32,
   "id": "a81ee6c5",
   "metadata": {},
   "outputs": [
    {
     "data": {
      "image/png": "[encoded data removed]",
      "text/plain": [
       "<Figure size 1080x504 with 1 Axes>"
      ]
     },
     "metadata": {
      "needs_background": "light"
     },
     "output_type": "display_data"
    }
   ],
   "source": [
    "plt.figure(figsize=(15,7))\n",
    "plt.title(\"Distplot for MeanTemp\",fontsize=20)\n",
    "sns.distplot(df1[\"MeanTemp\"])\n",
    "plt.show()"
   ]
  },
  {
   "cell_type": "code",
   "execution_count": 33,
   "id": "7edb34e2",
   "metadata": {},
   "outputs": [],
   "source": [
    "df1.drop([\"Snowfall\",\"PRCP\",\"SNF\"],axis=1,inplace=True)"
   ]
  },
  {
   "cell_type": "code",
   "execution_count": 34,
   "id": "08999424",
   "metadata": {},
   "outputs": [
    {
     "data": {
      "text/plain": [
       "4/16/1945     122\n",
       "4/22/1945     122\n",
       "4/29/1945     122\n",
       "4/27/1945     122\n",
       "4/26/1945     122\n",
       "             ... \n",
       "1/30/1940       3\n",
       "1/31/1940       3\n",
       "12/25/1940      3\n",
       "1/16/1940       3\n",
       "1/15/1940       3\n",
       "Name: Date, Length: 2192, dtype: int64"
      ]
     },
     "execution_count": 34,
     "metadata": {},
     "output_type": "execute_result"
    }
   ],
   "source": [
    "df1[\"Date\"].value_counts()"
   ]
  },
  {
   "cell_type": "code",
   "execution_count": 35,
   "id": "7608e2b1",
   "metadata": {},
   "outputs": [],
   "source": [
    "df1.drop([\"Date\"],axis=1,inplace=True)"
   ]
  },
  {
   "cell_type": "code",
   "execution_count": 36,
   "id": "036402b2",
   "metadata": {},
   "outputs": [
    {
     "name": "stdout",
     "output_type": "stream",
     "text": [
      "<class 'pandas.core.frame.DataFrame'>\n",
      "RangeIndex: 119040 entries, 0 to 119039\n",
      "Data columns (total 11 columns):\n",
      " #   Column    Non-Null Count   Dtype  \n",
      "---  ------    --------------   -----  \n",
      " 0   STA       119040 non-null  int64  \n",
      " 1   Precip    119040 non-null  object \n",
      " 2   MaxTemp   119040 non-null  float64\n",
      " 3   MinTemp   119040 non-null  float64\n",
      " 4   MeanTemp  119040 non-null  float64\n",
      " 5   YR        119040 non-null  int64  \n",
      " 6   MO        119040 non-null  int64  \n",
      " 7   DA        119040 non-null  int64  \n",
      " 8   MAX       119040 non-null  float64\n",
      " 9   MIN       119040 non-null  float64\n",
      " 10  MEA       119040 non-null  float64\n",
      "dtypes: float64(6), int64(4), object(1)\n",
      "memory usage: 10.0+ MB\n"
     ]
    }
   ],
   "source": [
    "df1.info()"
   ]
  },
  {
   "cell_type": "code",
   "execution_count": 37,
   "id": "d12aaee3",
   "metadata": {},
   "outputs": [
    {
     "data": {
      "text/plain": [
       "0     1.016\n",
       "1         0\n",
       "2      2.54\n",
       "3      2.54\n",
       "4         0\n",
       "5         0\n",
       "6         T\n",
       "7     3.556\n",
       "8         T\n",
       "9     3.556\n",
       "10        0\n",
       "11    0.508\n",
       "12        0\n",
       "13        0\n",
       "14        0\n",
       "15        T\n",
       "16        T\n",
       "17        T\n",
       "18        0\n",
       "19        0\n",
       "Name: Precip, dtype: object"
      ]
     },
     "execution_count": 37,
     "metadata": {},
     "output_type": "execute_result"
    }
   ],
   "source": [
    "df1[\"Precip\"].head(20)"
   ]
  },
  {
   "cell_type": "code",
   "execution_count": 38,
   "id": "2aa5feae",
   "metadata": {},
   "outputs": [],
   "source": [
    "df1[\"Precip\"]=df1[\"Precip\"].replace(\"T\",np.nan)"
   ]
  },
  {
   "cell_type": "code",
   "execution_count": 39,
   "id": "5b0f938e",
   "metadata": {},
   "outputs": [
    {
     "data": {
      "text/plain": [
       "0          64267\n",
       "0.254       3389\n",
       "0.508       2909\n",
       "0.762       2015\n",
       "1.016       1639\n",
       "           ...  \n",
       "123.698        1\n",
       "106.68         1\n",
       "126.492        1\n",
       "123.952        1\n",
       "161.036        1\n",
       "Name: Precip, Length: 539, dtype: int64"
      ]
     },
     "execution_count": 39,
     "metadata": {},
     "output_type": "execute_result"
    }
   ],
   "source": [
    "df1[\"Precip\"].value_counts()"
   ]
  },
  {
   "cell_type": "code",
   "execution_count": 40,
   "id": "95c87c74",
   "metadata": {},
   "outputs": [
    {
     "data": {
      "text/plain": [
       "0         1.016\n",
       "1         0.000\n",
       "2         2.540\n",
       "3         2.540\n",
       "4         0.000\n",
       "          ...  \n",
       "119035    0.000\n",
       "119036    9.906\n",
       "119037    0.000\n",
       "119038    0.000\n",
       "119039    0.000\n",
       "Name: Precip, Length: 119040, dtype: float64"
      ]
     },
     "execution_count": 40,
     "metadata": {},
     "output_type": "execute_result"
    }
   ],
   "source": [
    "df1[\"Precip\"].astype(\"float\")"
   ]
  },
  {
   "cell_type": "code",
   "execution_count": 41,
   "id": "b79b5c1e",
   "metadata": {},
   "outputs": [],
   "source": [
    "df1.fillna(df1[\"Precip\"].median(),inplace=True)"
   ]
  },
  {
   "cell_type": "code",
   "execution_count": 42,
   "id": "d73c376c",
   "metadata": {},
   "outputs": [
    {
     "data": {
      "image/png": "[encoded data removed]",
      "text/plain": [
       "<Figure size 1080x504 with 2 Axes>"
      ]
     },
     "metadata": {
      "needs_background": "light"
     },
     "output_type": "display_data"
    }
   ],
   "source": [
    "#correlation in dataset\n",
    "plt.figure(figsize=(15,7))\n",
    "plt.title(\"correlation among features\",fontsize=20)\n",
    "sns.heatmap(df1.corr(),annot=True,vmax=1.0,vmin=-1.0,fmt=\"g\")\n",
    "plt.show()"
   ]
  },
  {
   "cell_type": "code",
   "execution_count": 43,
   "id": "0e3463fb",
   "metadata": {},
   "outputs": [
    {
     "data": {
      "text/html": [
       "<div>\n",
       "<style scoped>\n",
       "    .dataframe tbody tr th:only-of-type {\n",
       "        vertical-align: middle;\n",
       "    }\n",
       "\n",
       "    .dataframe tbody tr th {\n",
       "        vertical-align: top;\n",
       "    }\n",
       "\n",
       "    .dataframe thead th {\n",
       "        text-align: right;\n",
       "    }\n",
       "</style>\n",
       "<table border=\"1\" class=\"dataframe\">\n",
       "  <thead>\n",
       "    <tr style=\"text-align: right;\">\n",
       "      <th></th>\n",
       "      <th>STA</th>\n",
       "      <th>MaxTemp</th>\n",
       "      <th>MinTemp</th>\n",
       "      <th>MeanTemp</th>\n",
       "      <th>YR</th>\n",
       "      <th>MO</th>\n",
       "      <th>DA</th>\n",
       "      <th>MAX</th>\n",
       "      <th>MIN</th>\n",
       "      <th>MEA</th>\n",
       "    </tr>\n",
       "  </thead>\n",
       "  <tbody>\n",
       "    <tr>\n",
       "      <th>STA</th>\n",
       "      <td>1.000000</td>\n",
       "      <td>0.092371</td>\n",
       "      <td>0.059319</td>\n",
       "      <td>0.078112</td>\n",
       "      <td>0.121408</td>\n",
       "      <td>-0.008592</td>\n",
       "      <td>0.000903</td>\n",
       "      <td>0.083101</td>\n",
       "      <td>0.049732</td>\n",
       "      <td>0.068696</td>\n",
       "    </tr>\n",
       "    <tr>\n",
       "      <th>MaxTemp</th>\n",
       "      <td>0.092371</td>\n",
       "      <td>1.000000</td>\n",
       "      <td>0.878384</td>\n",
       "      <td>0.969048</td>\n",
       "      <td>0.039585</td>\n",
       "      <td>0.031346</td>\n",
       "      <td>-0.005130</td>\n",
       "      <td>0.940035</td>\n",
       "      <td>0.818503</td>\n",
       "      <td>0.907613</td>\n",
       "    </tr>\n",
       "    <tr>\n",
       "      <th>MinTemp</th>\n",
       "      <td>0.059319</td>\n",
       "      <td>0.878384</td>\n",
       "      <td>1.000000</td>\n",
       "      <td>0.965425</td>\n",
       "      <td>-0.020733</td>\n",
       "      <td>0.069078</td>\n",
       "      <td>-0.002576</td>\n",
       "      <td>0.837411</td>\n",
       "      <td>0.956449</td>\n",
       "      <td>0.924603</td>\n",
       "    </tr>\n",
       "    <tr>\n",
       "      <th>MeanTemp</th>\n",
       "      <td>0.078112</td>\n",
       "      <td>0.969048</td>\n",
       "      <td>0.965425</td>\n",
       "      <td>1.000000</td>\n",
       "      <td>0.010681</td>\n",
       "      <td>0.050769</td>\n",
       "      <td>-0.004153</td>\n",
       "      <td>0.914111</td>\n",
       "      <td>0.910013</td>\n",
       "      <td>0.941518</td>\n",
       "    </tr>\n",
       "    <tr>\n",
       "      <th>YR</th>\n",
       "      <td>0.121408</td>\n",
       "      <td>0.039585</td>\n",
       "      <td>-0.020733</td>\n",
       "      <td>0.010681</td>\n",
       "      <td>1.000000</td>\n",
       "      <td>-0.144360</td>\n",
       "      <td>-0.011196</td>\n",
       "      <td>0.012535</td>\n",
       "      <td>-0.045018</td>\n",
       "      <td>-0.016550</td>\n",
       "    </tr>\n",
       "    <tr>\n",
       "      <th>MO</th>\n",
       "      <td>-0.008592</td>\n",
       "      <td>0.031346</td>\n",
       "      <td>0.069078</td>\n",
       "      <td>0.050769</td>\n",
       "      <td>-0.144360</td>\n",
       "      <td>1.000000</td>\n",
       "      <td>0.006563</td>\n",
       "      <td>0.034320</td>\n",
       "      <td>0.072372</td>\n",
       "      <td>0.054824</td>\n",
       "    </tr>\n",
       "    <tr>\n",
       "      <th>DA</th>\n",
       "      <td>0.000903</td>\n",
       "      <td>-0.005130</td>\n",
       "      <td>-0.002576</td>\n",
       "      <td>-0.004153</td>\n",
       "      <td>-0.011196</td>\n",
       "      <td>0.006563</td>\n",
       "      <td>1.000000</td>\n",
       "      <td>-0.003187</td>\n",
       "      <td>-0.000565</td>\n",
       "      <td>-0.001921</td>\n",
       "    </tr>\n",
       "    <tr>\n",
       "      <th>MAX</th>\n",
       "      <td>0.083101</td>\n",
       "      <td>0.940035</td>\n",
       "      <td>0.837411</td>\n",
       "      <td>0.914111</td>\n",
       "      <td>0.012535</td>\n",
       "      <td>0.034320</td>\n",
       "      <td>-0.003187</td>\n",
       "      <td>1.000000</td>\n",
       "      <td>0.873652</td>\n",
       "      <td>0.968178</td>\n",
       "    </tr>\n",
       "    <tr>\n",
       "      <th>MIN</th>\n",
       "      <td>0.049732</td>\n",
       "      <td>0.818503</td>\n",
       "      <td>0.956449</td>\n",
       "      <td>0.910013</td>\n",
       "      <td>-0.045018</td>\n",
       "      <td>0.072372</td>\n",
       "      <td>-0.000565</td>\n",
       "      <td>0.873652</td>\n",
       "      <td>1.000000</td>\n",
       "      <td>0.966577</td>\n",
       "    </tr>\n",
       "    <tr>\n",
       "      <th>MEA</th>\n",
       "      <td>0.068696</td>\n",
       "      <td>0.907613</td>\n",
       "      <td>0.924603</td>\n",
       "      <td>0.941518</td>\n",
       "      <td>-0.016550</td>\n",
       "      <td>0.054824</td>\n",
       "      <td>-0.001921</td>\n",
       "      <td>0.968178</td>\n",
       "      <td>0.966577</td>\n",
       "      <td>1.000000</td>\n",
       "    </tr>\n",
       "  </tbody>\n",
       "</table>\n",
       "</div>"
      ],
      "text/plain": [
       "               STA   MaxTemp   MinTemp  MeanTemp        YR        MO  \\\n",
       "STA       1.000000  0.092371  0.059319  0.078112  0.121408 -0.008592   \n",
       "MaxTemp   0.092371  1.000000  0.878384  0.969048  0.039585  0.031346   \n",
       "MinTemp   0.059319  0.878384  1.000000  0.965425 -0.020733  0.069078   \n",
       "MeanTemp  0.078112  0.969048  0.965425  1.000000  0.010681  0.050769   \n",
       "YR        0.121408  0.039585 -0.020733  0.010681  1.000000 -0.144360   \n",
       "MO       -0.008592  0.031346  0.069078  0.050769 -0.144360  1.000000   \n",
       "DA        0.000903 -0.005130 -0.002576 -0.004153 -0.011196  0.006563   \n",
       "MAX       0.083101  0.940035  0.837411  0.914111  0.012535  0.034320   \n",
       "MIN       0.049732  0.818503  0.956449  0.910013 -0.045018  0.072372   \n",
       "MEA       0.068696  0.907613  0.924603  0.941518 -0.016550  0.054824   \n",
       "\n",
       "                DA       MAX       MIN       MEA  \n",
       "STA       0.000903  0.083101  0.049732  0.068696  \n",
       "MaxTemp  -0.005130  0.940035  0.818503  0.907613  \n",
       "MinTemp  -0.002576  0.837411  0.956449  0.924603  \n",
       "MeanTemp -0.004153  0.914111  0.910013  0.941518  \n",
       "YR       -0.011196  0.012535 -0.045018 -0.016550  \n",
       "MO        0.006563  0.034320  0.072372  0.054824  \n",
       "DA        1.000000 -0.003187 -0.000565 -0.001921  \n",
       "MAX      -0.003187  1.000000  0.873652  0.968178  \n",
       "MIN      -0.000565  0.873652  1.000000  0.966577  \n",
       "MEA      -0.001921  0.968178  0.966577  1.000000  "
      ]
     },
     "execution_count": 43,
     "metadata": {},
     "output_type": "execute_result"
    }
   ],
   "source": [
    "corr=df1.corr()\n",
    "corr"
   ]
  },
  {
   "cell_type": "code",
   "execution_count": 44,
   "id": "6073a36b",
   "metadata": {},
   "outputs": [
    {
     "data": {
      "image/png": "[encoded data removed]",
      "text/plain": [
       "<Figure size 1080x504 with 2 Axes>"
      ]
     },
     "metadata": {
      "needs_background": "light"
     },
     "output_type": "display_data"
    }
   ],
   "source": [
    "#corr with respect to min temp\n",
    "plt.figure(figsize=(15,7))\n",
    "plt.title(\"correlation among features\",fontsize=20)\n",
    "sns.heatmap(corr[[\"MinTemp\"]],annot=True,vmax=1.0,vmin=-1.0,fmt=\"g\")\n",
    "plt.show()"
   ]
  },
  {
   "cell_type": "code",
   "execution_count": 45,
   "id": "14df8df6",
   "metadata": {},
   "outputs": [],
   "source": [
    "df1.drop([\"YR\",\"MO\",\"DA\"],axis=1,inplace=True)"
   ]
  },
  {
   "cell_type": "code",
   "execution_count": 46,
   "id": "94ed29c4",
   "metadata": {},
   "outputs": [
    {
     "data": {
      "text/plain": [
       "Index(['STA', 'Precip', 'MaxTemp', 'MinTemp', 'MeanTemp', 'MAX', 'MIN', 'MEA'], dtype='object')"
      ]
     },
     "execution_count": 46,
     "metadata": {},
     "output_type": "execute_result"
    }
   ],
   "source": [
    "df1.columns"
   ]
  },
  {
   "cell_type": "code",
   "execution_count": 47,
   "id": "f16c0404",
   "metadata": {},
   "outputs": [],
   "source": [
    "df1.drop([\"Precip\"],axis=1,inplace=True)"
   ]
  },
  {
   "cell_type": "code",
   "execution_count": 48,
   "id": "3c016edc",
   "metadata": {},
   "outputs": [
    {
     "data": {
      "text/plain": [
       "Index(['STA', 'MaxTemp', 'MinTemp', 'MeanTemp', 'MAX', 'MIN', 'MEA'], dtype='object')"
      ]
     },
     "execution_count": 48,
     "metadata": {},
     "output_type": "execute_result"
    }
   ],
   "source": [
    "df1.columns"
   ]
  },
  {
   "cell_type": "code",
   "execution_count": 49,
   "id": "3be7c643",
   "metadata": {},
   "outputs": [
    {
     "name": "stdout",
     "output_type": "stream",
     "text": [
      "<class 'pandas.core.frame.DataFrame'>\n",
      "RangeIndex: 119040 entries, 0 to 119039\n",
      "Data columns (total 7 columns):\n",
      " #   Column    Non-Null Count   Dtype  \n",
      "---  ------    --------------   -----  \n",
      " 0   STA       119040 non-null  int64  \n",
      " 1   MaxTemp   119040 non-null  float64\n",
      " 2   MinTemp   119040 non-null  float64\n",
      " 3   MeanTemp  119040 non-null  float64\n",
      " 4   MAX       119040 non-null  float64\n",
      " 5   MIN       119040 non-null  float64\n",
      " 6   MEA       119040 non-null  float64\n",
      "dtypes: float64(6), int64(1)\n",
      "memory usage: 6.4 MB\n"
     ]
    }
   ],
   "source": [
    "df1.info()"
   ]
  },
  {
   "cell_type": "markdown",
   "id": "6a3427c9",
   "metadata": {},
   "source": [
    "Problem Statement - Given STA<MAXTEMP<MEANTemp<MAX<MIN<MEA as an independent feature, we have to predict min temperature(target feature or dependent variable)."
   ]
  },
  {
   "cell_type": "code",
   "execution_count": 50,
   "id": "50acb505",
   "metadata": {},
   "outputs": [
    {
     "data": {
      "text/html": [
       "<div>\n",
       "<style scoped>\n",
       "    .dataframe tbody tr th:only-of-type {\n",
       "        vertical-align: middle;\n",
       "    }\n",
       "\n",
       "    .dataframe tbody tr th {\n",
       "        vertical-align: top;\n",
       "    }\n",
       "\n",
       "    .dataframe thead th {\n",
       "        text-align: right;\n",
       "    }\n",
       "</style>\n",
       "<table border=\"1\" class=\"dataframe\">\n",
       "  <thead>\n",
       "    <tr style=\"text-align: right;\">\n",
       "      <th></th>\n",
       "      <th>MinTemp</th>\n",
       "    </tr>\n",
       "  </thead>\n",
       "  <tbody>\n",
       "    <tr>\n",
       "      <th>0</th>\n",
       "      <td>22.222222</td>\n",
       "    </tr>\n",
       "    <tr>\n",
       "      <th>1</th>\n",
       "      <td>21.666667</td>\n",
       "    </tr>\n",
       "    <tr>\n",
       "      <th>2</th>\n",
       "      <td>22.222222</td>\n",
       "    </tr>\n",
       "    <tr>\n",
       "      <th>3</th>\n",
       "      <td>22.222222</td>\n",
       "    </tr>\n",
       "    <tr>\n",
       "      <th>4</th>\n",
       "      <td>21.666667</td>\n",
       "    </tr>\n",
       "    <tr>\n",
       "      <th>...</th>\n",
       "      <td>...</td>\n",
       "    </tr>\n",
       "    <tr>\n",
       "      <th>119035</th>\n",
       "      <td>18.333333</td>\n",
       "    </tr>\n",
       "    <tr>\n",
       "      <th>119036</th>\n",
       "      <td>18.333333</td>\n",
       "    </tr>\n",
       "    <tr>\n",
       "      <th>119037</th>\n",
       "      <td>18.333333</td>\n",
       "    </tr>\n",
       "    <tr>\n",
       "      <th>119038</th>\n",
       "      <td>18.333333</td>\n",
       "    </tr>\n",
       "    <tr>\n",
       "      <th>119039</th>\n",
       "      <td>17.222222</td>\n",
       "    </tr>\n",
       "  </tbody>\n",
       "</table>\n",
       "<p>119040 rows × 1 columns</p>\n",
       "</div>"
      ],
      "text/plain": [
       "          MinTemp\n",
       "0       22.222222\n",
       "1       21.666667\n",
       "2       22.222222\n",
       "3       22.222222\n",
       "4       21.666667\n",
       "...           ...\n",
       "119035  18.333333\n",
       "119036  18.333333\n",
       "119037  18.333333\n",
       "119038  18.333333\n",
       "119039  17.222222\n",
       "\n",
       "[119040 rows x 1 columns]"
      ]
     },
     "execution_count": 50,
     "metadata": {},
     "output_type": "execute_result"
    }
   ],
   "source": [
    "Y=df1[[\"MinTemp\"]]\n",
    "Y"
   ]
  },
  {
   "cell_type": "code",
   "execution_count": 51,
   "id": "990992bf",
   "metadata": {},
   "outputs": [],
   "source": [
    "df1.drop([\"MinTemp\"],axis=1,inplace=True)\n"
   ]
  },
  {
   "cell_type": "code",
   "execution_count": 52,
   "id": "d5a543c5",
   "metadata": {},
   "outputs": [
    {
     "data": {
      "text/html": [
       "<div>\n",
       "<style scoped>\n",
       "    .dataframe tbody tr th:only-of-type {\n",
       "        vertical-align: middle;\n",
       "    }\n",
       "\n",
       "    .dataframe tbody tr th {\n",
       "        vertical-align: top;\n",
       "    }\n",
       "\n",
       "    .dataframe thead th {\n",
       "        text-align: right;\n",
       "    }\n",
       "</style>\n",
       "<table border=\"1\" class=\"dataframe\">\n",
       "  <thead>\n",
       "    <tr style=\"text-align: right;\">\n",
       "      <th></th>\n",
       "      <th>STA</th>\n",
       "      <th>MaxTemp</th>\n",
       "      <th>MeanTemp</th>\n",
       "      <th>MAX</th>\n",
       "      <th>MIN</th>\n",
       "      <th>MEA</th>\n",
       "    </tr>\n",
       "  </thead>\n",
       "  <tbody>\n",
       "    <tr>\n",
       "      <th>0</th>\n",
       "      <td>10001</td>\n",
       "      <td>25.555556</td>\n",
       "      <td>23.888889</td>\n",
       "      <td>78.0</td>\n",
       "      <td>72.0</td>\n",
       "      <td>75.0</td>\n",
       "    </tr>\n",
       "    <tr>\n",
       "      <th>1</th>\n",
       "      <td>10001</td>\n",
       "      <td>28.888889</td>\n",
       "      <td>25.555556</td>\n",
       "      <td>84.0</td>\n",
       "      <td>71.0</td>\n",
       "      <td>78.0</td>\n",
       "    </tr>\n",
       "    <tr>\n",
       "      <th>2</th>\n",
       "      <td>10001</td>\n",
       "      <td>26.111111</td>\n",
       "      <td>24.444444</td>\n",
       "      <td>79.0</td>\n",
       "      <td>72.0</td>\n",
       "      <td>76.0</td>\n",
       "    </tr>\n",
       "    <tr>\n",
       "      <th>3</th>\n",
       "      <td>10001</td>\n",
       "      <td>26.666667</td>\n",
       "      <td>24.444444</td>\n",
       "      <td>80.0</td>\n",
       "      <td>72.0</td>\n",
       "      <td>76.0</td>\n",
       "    </tr>\n",
       "    <tr>\n",
       "      <th>4</th>\n",
       "      <td>10001</td>\n",
       "      <td>26.666667</td>\n",
       "      <td>24.444444</td>\n",
       "      <td>80.0</td>\n",
       "      <td>71.0</td>\n",
       "      <td>76.0</td>\n",
       "    </tr>\n",
       "    <tr>\n",
       "      <th>...</th>\n",
       "      <td>...</td>\n",
       "      <td>...</td>\n",
       "      <td>...</td>\n",
       "      <td>...</td>\n",
       "      <td>...</td>\n",
       "      <td>...</td>\n",
       "    </tr>\n",
       "    <tr>\n",
       "      <th>119035</th>\n",
       "      <td>82506</td>\n",
       "      <td>28.333333</td>\n",
       "      <td>23.333333</td>\n",
       "      <td>83.0</td>\n",
       "      <td>65.0</td>\n",
       "      <td>74.0</td>\n",
       "    </tr>\n",
       "    <tr>\n",
       "      <th>119036</th>\n",
       "      <td>82506</td>\n",
       "      <td>29.444444</td>\n",
       "      <td>23.888889</td>\n",
       "      <td>85.0</td>\n",
       "      <td>65.0</td>\n",
       "      <td>75.0</td>\n",
       "    </tr>\n",
       "    <tr>\n",
       "      <th>119037</th>\n",
       "      <td>82506</td>\n",
       "      <td>28.333333</td>\n",
       "      <td>23.333333</td>\n",
       "      <td>83.0</td>\n",
       "      <td>65.0</td>\n",
       "      <td>74.0</td>\n",
       "    </tr>\n",
       "    <tr>\n",
       "      <th>119038</th>\n",
       "      <td>82506</td>\n",
       "      <td>28.333333</td>\n",
       "      <td>23.333333</td>\n",
       "      <td>83.0</td>\n",
       "      <td>65.0</td>\n",
       "      <td>74.0</td>\n",
       "    </tr>\n",
       "    <tr>\n",
       "      <th>119039</th>\n",
       "      <td>82506</td>\n",
       "      <td>29.444444</td>\n",
       "      <td>23.333333</td>\n",
       "      <td>85.0</td>\n",
       "      <td>63.0</td>\n",
       "      <td>74.0</td>\n",
       "    </tr>\n",
       "  </tbody>\n",
       "</table>\n",
       "<p>119040 rows × 6 columns</p>\n",
       "</div>"
      ],
      "text/plain": [
       "          STA    MaxTemp   MeanTemp   MAX   MIN   MEA\n",
       "0       10001  25.555556  23.888889  78.0  72.0  75.0\n",
       "1       10001  28.888889  25.555556  84.0  71.0  78.0\n",
       "2       10001  26.111111  24.444444  79.0  72.0  76.0\n",
       "3       10001  26.666667  24.444444  80.0  72.0  76.0\n",
       "4       10001  26.666667  24.444444  80.0  71.0  76.0\n",
       "...       ...        ...        ...   ...   ...   ...\n",
       "119035  82506  28.333333  23.333333  83.0  65.0  74.0\n",
       "119036  82506  29.444444  23.888889  85.0  65.0  75.0\n",
       "119037  82506  28.333333  23.333333  83.0  65.0  74.0\n",
       "119038  82506  28.333333  23.333333  83.0  65.0  74.0\n",
       "119039  82506  29.444444  23.333333  85.0  63.0  74.0\n",
       "\n",
       "[119040 rows x 6 columns]"
      ]
     },
     "execution_count": 52,
     "metadata": {},
     "output_type": "execute_result"
    }
   ],
   "source": [
    "df1"
   ]
  },
  {
   "cell_type": "code",
   "execution_count": 53,
   "id": "e376df46",
   "metadata": {},
   "outputs": [],
   "source": [
    "X=df1"
   ]
  },
  {
   "cell_type": "code",
   "execution_count": 54,
   "id": "3c34cb9a",
   "metadata": {},
   "outputs": [
    {
     "data": {
      "text/html": [
       "<div>\n",
       "<style scoped>\n",
       "    .dataframe tbody tr th:only-of-type {\n",
       "        vertical-align: middle;\n",
       "    }\n",
       "\n",
       "    .dataframe tbody tr th {\n",
       "        vertical-align: top;\n",
       "    }\n",
       "\n",
       "    .dataframe thead th {\n",
       "        text-align: right;\n",
       "    }\n",
       "</style>\n",
       "<table border=\"1\" class=\"dataframe\">\n",
       "  <thead>\n",
       "    <tr style=\"text-align: right;\">\n",
       "      <th></th>\n",
       "      <th>STA</th>\n",
       "      <th>MaxTemp</th>\n",
       "      <th>MeanTemp</th>\n",
       "      <th>MAX</th>\n",
       "      <th>MIN</th>\n",
       "      <th>MEA</th>\n",
       "    </tr>\n",
       "  </thead>\n",
       "  <tbody>\n",
       "    <tr>\n",
       "      <th>0</th>\n",
       "      <td>10001</td>\n",
       "      <td>25.555556</td>\n",
       "      <td>23.888889</td>\n",
       "      <td>78.0</td>\n",
       "      <td>72.0</td>\n",
       "      <td>75.0</td>\n",
       "    </tr>\n",
       "    <tr>\n",
       "      <th>1</th>\n",
       "      <td>10001</td>\n",
       "      <td>28.888889</td>\n",
       "      <td>25.555556</td>\n",
       "      <td>84.0</td>\n",
       "      <td>71.0</td>\n",
       "      <td>78.0</td>\n",
       "    </tr>\n",
       "    <tr>\n",
       "      <th>2</th>\n",
       "      <td>10001</td>\n",
       "      <td>26.111111</td>\n",
       "      <td>24.444444</td>\n",
       "      <td>79.0</td>\n",
       "      <td>72.0</td>\n",
       "      <td>76.0</td>\n",
       "    </tr>\n",
       "    <tr>\n",
       "      <th>3</th>\n",
       "      <td>10001</td>\n",
       "      <td>26.666667</td>\n",
       "      <td>24.444444</td>\n",
       "      <td>80.0</td>\n",
       "      <td>72.0</td>\n",
       "      <td>76.0</td>\n",
       "    </tr>\n",
       "    <tr>\n",
       "      <th>4</th>\n",
       "      <td>10001</td>\n",
       "      <td>26.666667</td>\n",
       "      <td>24.444444</td>\n",
       "      <td>80.0</td>\n",
       "      <td>71.0</td>\n",
       "      <td>76.0</td>\n",
       "    </tr>\n",
       "    <tr>\n",
       "      <th>...</th>\n",
       "      <td>...</td>\n",
       "      <td>...</td>\n",
       "      <td>...</td>\n",
       "      <td>...</td>\n",
       "      <td>...</td>\n",
       "      <td>...</td>\n",
       "    </tr>\n",
       "    <tr>\n",
       "      <th>119035</th>\n",
       "      <td>82506</td>\n",
       "      <td>28.333333</td>\n",
       "      <td>23.333333</td>\n",
       "      <td>83.0</td>\n",
       "      <td>65.0</td>\n",
       "      <td>74.0</td>\n",
       "    </tr>\n",
       "    <tr>\n",
       "      <th>119036</th>\n",
       "      <td>82506</td>\n",
       "      <td>29.444444</td>\n",
       "      <td>23.888889</td>\n",
       "      <td>85.0</td>\n",
       "      <td>65.0</td>\n",
       "      <td>75.0</td>\n",
       "    </tr>\n",
       "    <tr>\n",
       "      <th>119037</th>\n",
       "      <td>82506</td>\n",
       "      <td>28.333333</td>\n",
       "      <td>23.333333</td>\n",
       "      <td>83.0</td>\n",
       "      <td>65.0</td>\n",
       "      <td>74.0</td>\n",
       "    </tr>\n",
       "    <tr>\n",
       "      <th>119038</th>\n",
       "      <td>82506</td>\n",
       "      <td>28.333333</td>\n",
       "      <td>23.333333</td>\n",
       "      <td>83.0</td>\n",
       "      <td>65.0</td>\n",
       "      <td>74.0</td>\n",
       "    </tr>\n",
       "    <tr>\n",
       "      <th>119039</th>\n",
       "      <td>82506</td>\n",
       "      <td>29.444444</td>\n",
       "      <td>23.333333</td>\n",
       "      <td>85.0</td>\n",
       "      <td>63.0</td>\n",
       "      <td>74.0</td>\n",
       "    </tr>\n",
       "  </tbody>\n",
       "</table>\n",
       "<p>119040 rows × 6 columns</p>\n",
       "</div>"
      ],
      "text/plain": [
       "          STA    MaxTemp   MeanTemp   MAX   MIN   MEA\n",
       "0       10001  25.555556  23.888889  78.0  72.0  75.0\n",
       "1       10001  28.888889  25.555556  84.0  71.0  78.0\n",
       "2       10001  26.111111  24.444444  79.0  72.0  76.0\n",
       "3       10001  26.666667  24.444444  80.0  72.0  76.0\n",
       "4       10001  26.666667  24.444444  80.0  71.0  76.0\n",
       "...       ...        ...        ...   ...   ...   ...\n",
       "119035  82506  28.333333  23.333333  83.0  65.0  74.0\n",
       "119036  82506  29.444444  23.888889  85.0  65.0  75.0\n",
       "119037  82506  28.333333  23.333333  83.0  65.0  74.0\n",
       "119038  82506  28.333333  23.333333  83.0  65.0  74.0\n",
       "119039  82506  29.444444  23.333333  85.0  63.0  74.0\n",
       "\n",
       "[119040 rows x 6 columns]"
      ]
     },
     "execution_count": 54,
     "metadata": {},
     "output_type": "execute_result"
    }
   ],
   "source": [
    "X"
   ]
  },
  {
   "cell_type": "code",
   "execution_count": 55,
   "id": "f184186e",
   "metadata": {},
   "outputs": [],
   "source": [
    "#split train test data\n",
    "from sklearn.model_selection import train_test_split"
   ]
  },
  {
   "cell_type": "code",
   "execution_count": 56,
   "id": "bc70c519",
   "metadata": {},
   "outputs": [],
   "source": [
    "X_train,X_test,Y_train,Y_test=train_test_split(X,Y,test_size=.30,random_state=1)"
   ]
  },
  {
   "cell_type": "code",
   "execution_count": 57,
   "id": "5a05f441",
   "metadata": {},
   "outputs": [
    {
     "data": {
      "text/plain": [
       "(35712, 6)"
      ]
     },
     "execution_count": 57,
     "metadata": {},
     "output_type": "execute_result"
    }
   ],
   "source": [
    "X_test.shape"
   ]
  },
  {
   "cell_type": "code",
   "execution_count": 58,
   "id": "3e6f818b",
   "metadata": {},
   "outputs": [
    {
     "data": {
      "text/plain": [
       "(83328, 6)"
      ]
     },
     "execution_count": 58,
     "metadata": {},
     "output_type": "execute_result"
    }
   ],
   "source": [
    "X_train.shape"
   ]
  },
  {
   "cell_type": "code",
   "execution_count": 59,
   "id": "178ca65b",
   "metadata": {},
   "outputs": [
    {
     "data": {
      "text/plain": [
       "(83328, 1)"
      ]
     },
     "execution_count": 59,
     "metadata": {},
     "output_type": "execute_result"
    }
   ],
   "source": [
    "Y_train.shape"
   ]
  },
  {
   "cell_type": "code",
   "execution_count": 60,
   "id": "7e9ec2d7",
   "metadata": {},
   "outputs": [],
   "source": [
    "from sklearn.linear_model import LinearRegression "
   ]
  },
  {
   "cell_type": "code",
   "execution_count": 61,
   "id": "9d4f3973",
   "metadata": {},
   "outputs": [],
   "source": [
    "lm=LinearRegression()"
   ]
  },
  {
   "cell_type": "code",
   "execution_count": 62,
   "id": "96e4d188",
   "metadata": {},
   "outputs": [
    {
     "data": {
      "text/html": [
       "<style>#sk-container-id-1 {color: black;background-color: white;}#sk-container-id-1 pre{padding: 0;}#sk-container-id-1 div.sk-toggleable {background-color: white;}#sk-container-id-1 label.sk-toggleable__label {cursor: pointer;display: block;width: 100%;margin-bottom: 0;padding: 0.3em;box-sizing: border-box;text-align: center;}#sk-container-id-1 label.sk-toggleable__label-arrow:before {content: \"▸\";float: left;margin-right: 0.25em;color: #696969;}#sk-container-id-1 label.sk-toggleable__label-arrow:hover:before {color: black;}#sk-container-id-1 div.sk-estimator:hover label.sk-toggleable__label-arrow:before {color: black;}#sk-container-id-1 div.sk-toggleable__content {max-height: 0;max-width: 0;overflow: hidden;text-align: left;background-color: #f0f8ff;}#sk-container-id-1 div.sk-toggleable__content pre {margin: 0.2em;color: black;border-radius: 0.25em;background-color: #f0f8ff;}#sk-container-id-1 input.sk-toggleable__control:checked~div.sk-toggleable__content {max-height: 200px;max-width: 100%;overflow: auto;}#sk-container-id-1 input.sk-toggleable__control:checked~label.sk-toggleable__label-arrow:before {content: \"▾\";}#sk-container-id-1 div.sk-estimator input.sk-toggleable__control:checked~label.sk-toggleable__label {background-color: #d4ebff;}#sk-container-id-1 div.sk-label input.sk-toggleable__control:checked~label.sk-toggleable__label {background-color: #d4ebff;}#sk-container-id-1 input.sk-hidden--visually {border: 0;clip: rect(1px 1px 1px 1px);clip: rect(1px, 1px, 1px, 1px);height: 1px;margin: -1px;overflow: hidden;padding: 0;position: absolute;width: 1px;}#sk-container-id-1 div.sk-estimator {font-family: monospace;background-color: #f0f8ff;border: 1px dotted black;border-radius: 0.25em;box-sizing: border-box;margin-bottom: 0.5em;}#sk-container-id-1 div.sk-estimator:hover {background-color: #d4ebff;}#sk-container-id-1 div.sk-parallel-item::after {content: \"\";width: 100%;border-bottom: 1px solid gray;flex-grow: 1;}#sk-container-id-1 div.sk-label:hover label.sk-toggleable__label {background-color: #d4ebff;}#sk-container-id-1 div.sk-serial::before {content: \"\";position: absolute;border-left: 1px solid gray;box-sizing: border-box;top: 0;bottom: 0;left: 50%;z-index: 0;}#sk-container-id-1 div.sk-serial {display: flex;flex-direction: column;align-items: center;background-color: white;padding-right: 0.2em;padding-left: 0.2em;position: relative;}#sk-container-id-1 div.sk-item {position: relative;z-index: 1;}#sk-container-id-1 div.sk-parallel {display: flex;align-items: stretch;justify-content: center;background-color: white;position: relative;}#sk-container-id-1 div.sk-item::before, #sk-container-id-1 div.sk-parallel-item::before {content: \"\";position: absolute;border-left: 1px solid gray;box-sizing: border-box;top: 0;bottom: 0;left: 50%;z-index: -1;}#sk-container-id-1 div.sk-parallel-item {display: flex;flex-direction: column;z-index: 1;position: relative;background-color: white;}#sk-container-id-1 div.sk-parallel-item:first-child::after {align-self: flex-end;width: 50%;}#sk-container-id-1 div.sk-parallel-item:last-child::after {align-self: flex-start;width: 50%;}#sk-container-id-1 div.sk-parallel-item:only-child::after {width: 0;}#sk-container-id-1 div.sk-dashed-wrapped {border: 1px dashed gray;margin: 0 0.4em 0.5em 0.4em;box-sizing: border-box;padding-bottom: 0.4em;background-color: white;}#sk-container-id-1 div.sk-label label {font-family: monospace;font-weight: bold;display: inline-block;line-height: 1.2em;}#sk-container-id-1 div.sk-label-container {text-align: center;}#sk-container-id-1 div.sk-container {/* jupyter's `normalize.less` sets `[hidden] { display: none; }` but bootstrap.min.css set `[hidden] { display: none !important; }` so we also need the `!important` here to be able to override the default hidden behavior on the sphinx rendered scikit-learn.org. See: https://github.com/scikit-learn/scikit-learn/issues/21755 */display: inline-block !important;position: relative;}#sk-container-id-1 div.sk-text-repr-fallback {display: none;}</style><div id=\"sk-container-id-1\" class=\"sk-top-container\"><div class=\"sk-text-repr-fallback\"><pre>LinearRegression()</pre><b>In a Jupyter environment, please rerun this cell to show the HTML representation or trust the notebook. <br />On GitHub, the HTML representation is unable to render, please try loading this page with nbviewer.org.</b></div><div class=\"sk-container\" hidden><div class=\"sk-item\"><div class=\"sk-estimator sk-toggleable\"><input class=\"sk-toggleable__control sk-hidden--visually\" id=\"sk-estimator-id-1\" type=\"checkbox\" checked><label for=\"sk-estimator-id-1\" class=\"sk-toggleable__label sk-toggleable__label-arrow\">LinearRegression</label><div class=\"sk-toggleable__content\"><pre>LinearRegression()</pre></div></div></div></div></div>"
      ],
      "text/plain": [
       "LinearRegression()"
      ]
     },
     "execution_count": 62,
     "metadata": {},
     "output_type": "execute_result"
    }
   ],
   "source": [
    "#train your model\n",
    "lm.fit(X_train,Y_train)"
   ]
  },
  {
   "cell_type": "code",
   "execution_count": 63,
   "id": "58cbacdd",
   "metadata": {},
   "outputs": [],
   "source": [
    "#prediction\n",
    "lm_predict=lm.predict(X_test)"
   ]
  },
  {
   "cell_type": "code",
   "execution_count": 64,
   "id": "dc30fb55",
   "metadata": {},
   "outputs": [
    {
     "data": {
      "text/plain": [
       "array([[11.05503121],\n",
       "       [19.44622835],\n",
       "       [22.05921974],\n",
       "       ...,\n",
       "       [22.29062818],\n",
       "       [19.3705026 ],\n",
       "       [22.21426526]])"
      ]
     },
     "execution_count": 64,
     "metadata": {},
     "output_type": "execute_result"
    }
   ],
   "source": [
    "lm_predict"
   ]
  },
  {
   "cell_type": "code",
   "execution_count": 65,
   "id": "5f96927d",
   "metadata": {},
   "outputs": [],
   "source": [
    "from sklearn.metrics import r2_score"
   ]
  },
  {
   "cell_type": "code",
   "execution_count": 66,
   "id": "eda13e8a",
   "metadata": {},
   "outputs": [
    {
     "data": {
      "text/plain": [
       "99.27103426991832"
      ]
     },
     "execution_count": 66,
     "metadata": {},
     "output_type": "execute_result"
    }
   ],
   "source": [
    "#accuracy\n",
    "r2_score(Y_test,lm_predict)*100"
   ]
  },
  {
   "cell_type": "code",
   "execution_count": 67,
   "id": "a1d29d13",
   "metadata": {},
   "outputs": [
    {
     "data": {
      "text/plain": [
       "0.9927103426991831"
      ]
     },
     "execution_count": 67,
     "metadata": {},
     "output_type": "execute_result"
    }
   ],
   "source": [
    "##Accuracy Calculation of test data\n",
    "lm.score(X_test,Y_test)"
   ]
  },
  {
   "cell_type": "code",
   "execution_count": 68,
   "id": "6bc10133",
   "metadata": {},
   "outputs": [
    {
     "data": {
      "text/plain": [
       "0.9948652523611846"
      ]
     },
     "execution_count": 68,
     "metadata": {},
     "output_type": "execute_result"
    }
   ],
   "source": [
    "lm.score(X_train,Y_train)"
   ]
  },
  {
   "cell_type": "code",
   "execution_count": 75,
   "id": "639cfdad",
   "metadata": {},
   "outputs": [
    {
     "data": {
      "text/plain": [
       "array([[ 1.55580707e-07, -6.26865108e-03,  8.58344689e-01,\n",
       "        -6.79535824e-02,  4.81956341e-01, -3.31995721e-01]])"
      ]
     },
     "execution_count": 75,
     "metadata": {},
     "output_type": "execute_result"
    }
   ],
   "source": [
    "lm.coef_"
   ]
  },
  {
   "cell_type": "code",
   "execution_count": 76,
   "id": "e13bd7ca",
   "metadata": {},
   "outputs": [
    {
     "data": {
      "text/plain": [
       "array([-2.6420905])"
      ]
     },
     "execution_count": 76,
     "metadata": {},
     "output_type": "execute_result"
    }
   ],
   "source": [
    "lm.intercept_"
   ]
  },
  {
   "cell_type": "code",
   "execution_count": null,
   "id": "789ccdba",
   "metadata": {},
   "outputs": [],
   "source": []
  }
 ],
 "metadata": {
  "kernelspec": {
   "display_name": "Python 3 (ipykernel)",
   "language": "python",
   "name": "python3"
  },
  "language_info": {
   "codemirror_mode": {
    "name": "ipython",
    "version": 3
   },
   "file_extension": ".py",
   "mimetype": "text/x-python",
   "name": "python",
   "nbconvert_exporter": "python",
   "pygments_lexer": "ipython3",
   "version": "3.9.12"
  }
 },
 "nbformat": 4,
 "nbformat_minor": 5
}
